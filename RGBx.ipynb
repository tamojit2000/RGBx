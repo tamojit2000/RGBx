{
 "cells": [
  {
   "cell_type": "code",
   "execution_count": 1,
   "metadata": {},
   "outputs": [],
   "source": [
    "import numpy as np\n",
    "import matplotlib.pyplot as plt\n",
    "import cv2\n",
    "import time\n",
    "from threading import Thread\n",
    "from multiprocessing import Process"
   ]
  },
  {
   "cell_type": "code",
   "execution_count": 2,
   "metadata": {},
   "outputs": [],
   "source": [
    "def HEXtoRGB(HEX):\n",
    "    h=HEX.lstrip('#')\n",
    "    return [int(h[i:i+2],16) for i in range(0,6,2)]"
   ]
  },
  {
   "cell_type": "code",
   "execution_count": 3,
   "metadata": {},
   "outputs": [],
   "source": [
    "def makeImg(name,start,end):\n",
    "    lower=HEXtoRGB(start)\n",
    "    upper=HEXtoRGB(end)\n",
    "    ConvertorR=lambda x: int((upper[0]-lower[0])*x/255+lower[0])\n",
    "    ConvertorG=lambda x: int((upper[1]-lower[1])*x/255+lower[1])\n",
    "    ConvertorB=lambda x: int((upper[2]-lower[2])*x/255+lower[2])\n",
    "    img=cv2.imread(name)\n",
    "    img=cv2.resize(img, (200,200), interpolation = cv2.INTER_AREA)\n",
    "    y,x=200,200\n",
    "    for i in range(y):\n",
    "        for j in range(x):\n",
    "            BGR=img[i][j]\n",
    "            BGR=[ConvertorB(BGR[0]),ConvertorG(BGR[1]),ConvertorR(BGR[2])]\n",
    "            img[i][j]=BGR\n",
    "    cv2.imwrite('Images/{}-{}.jpg'.format(start,end),img)\n",
    "    print('Images/{}-{}-{}.jpg'.format(name.rstrip('.jpg'),start,end),'done')\n",
    "    \n",
    "    "
   ]
  },
  {
   "cell_type": "code",
   "execution_count": 4,
   "metadata": {},
   "outputs": [],
   "source": [
    "args=[['#FFA69E','#861657'],\n",
    "      ['#5F0A87','#A4508B'],\n",
    "      ['#A88BEB','#F8CEEC'],\n",
    "      ['#B58ECC','#5DE6DE'],\n",
    "      ['#647DEE','#7F53AC'],\n",
    "      ['#B621FE','#1FD1F9'],\n",
    "      ['#FC575E','#90D5EC'],\n",
    "      ['#F53844','#42378F'],\n",
    "      ['#D65BCA','#21D190'],\n",
    "      ['#FFC907','#B5C327']]\n",
    "\n"
   ]
  },
  {
   "cell_type": "code",
   "execution_count": 5,
   "metadata": {},
   "outputs": [
    {
     "name": "stdout",
     "output_type": "stream",
     "text": [
      "Images/amsterdam-1920x1080-channel-4k-18504-#A88BEB-#F8CEEC.jpg done\n",
      "Images/amsterdam-1920x1080-channel-4k-18504-#647DEE-#7F53AC.jpg done\n",
      "Images/amsterdam-1920x1080-channel-4k-18504-#5F0A87-#A4508B.jpg done\n",
      "Images/amsterdam-1920x1080-channel-4k-18504-#B58ECC-#5DE6DE.jpg done\n",
      "Images/amsterdam-1920x1080-channel-4k-18504-#B621FE-#1FD1F9.jpgImages/amsterdam-1920x1080-channel-4k-18504-#D65BCA-#21D190.jpgImages/amsterdam-1920x1080-channel-4k-18504-#F53844-#42378F.jpg done\n",
      " done\n",
      " done\n",
      "Images/amsterdam-1920x1080-channel-4k-18504-#FC575E-#90D5EC.jpg done\n",
      "Images/amsterdam-1920x1080-channel-4k-18504-#FFC907-#B5C327.jpg done\n",
      "Images/amsterdam-1920x1080-channel-4k-18504-#FFA69E-#861657.jpg done\n"
     ]
    }
   ],
   "source": [
    "\n",
    "for i in args:\n",
    "    t=Thread(target=makeImg,args=('amsterdam-1920x1080-channel-4k-18504.jpg',i[0],i[1],)) \n",
    "    t.start()\n",
    "    \n",
    "\n",
    "    "
   ]
  },
  {
   "cell_type": "code",
   "execution_count": null,
   "metadata": {},
   "outputs": [],
   "source": []
  },
  {
   "cell_type": "code",
   "execution_count": null,
   "metadata": {},
   "outputs": [],
   "source": []
  }
 ],
 "metadata": {
  "kernelspec": {
   "display_name": "Python 3",
   "language": "python",
   "name": "python3"
  },
  "language_info": {
   "codemirror_mode": {
    "name": "ipython",
    "version": 3
   },
   "file_extension": ".py",
   "mimetype": "text/x-python",
   "name": "python",
   "nbconvert_exporter": "python",
   "pygments_lexer": "ipython3",
   "version": "3.7.1"
  }
 },
 "nbformat": 4,
 "nbformat_minor": 2
}
